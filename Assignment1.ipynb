{
 "cells": [
  {
   "cell_type": "code",
   "execution_count": 4,
   "id": "8f5d6a1a",
   "metadata": {},
   "outputs": [
    {
     "name": "stdout",
     "output_type": "stream",
     "text": [
      "ntyp\n"
     ]
    }
   ],
   "source": [
    "givenStr = \"python\";\n",
    "givenStr = givenStr.replace('h','');\n",
    "givenStr = givenStr.replace('o','');\n",
    "print(givenStr[::-1]);\n",
    "\n"
   ]
  },
  {
   "cell_type": "code",
   "execution_count": 2,
   "id": "f1b3dd9d",
   "metadata": {},
   "outputs": [
    {
     "name": "stdout",
     "output_type": "stream",
     "text": [
      "Enter first number: 3\n",
      "Enter second number: 2\n",
      "Addition :  5\n",
      "Multiplication :  6\n",
      "Subtraction :  1\n",
      "Division :  1.5\n"
     ]
    }
   ],
   "source": [
    "a = int(input(\"Enter first number: \")) \n",
    "b = int(input(\"Enter second number: \"))\n",
    "print(\"Addition : \",a + b)\n",
    "print(\"Multiplication : \",a * b)\n",
    "print(\"Subtraction : \",a - b)\n",
    "print(\"Division : \",a / b)"
   ]
  },
  {
   "cell_type": "code",
   "execution_count": 55,
   "id": "441cfb8d",
   "metadata": {},
   "outputs": [
    {
     "name": "stdout",
     "output_type": "stream",
     "text": [
      "I love playing with pythons\n"
     ]
    }
   ],
   "source": [
    "str = \"I love playing with python\"\n",
    " \n",
    "\n",
    "str = str.replace('python', 'pythons')\n",
    "print(str)"
   ]
  },
  {
   "cell_type": "code",
   "execution_count": 2,
   "id": "1d41bea7",
   "metadata": {},
   "outputs": [
    {
     "name": "stdout",
     "output_type": "stream",
     "text": [
      "Enter Marks Obtained in : \n",
      "90\n",
      "Your Grade is A\n"
     ]
    }
   ],
   "source": [
    "print(\"Enter Marks Obtained in : \");\n",
    "\n",
    "markOne = int(input())\n",
    "\n",
    "if markOne <= 100: \n",
    "\n",
    "    if markOne>=90 and markOne<=100:\n",
    "\n",
    "        print(\"Your Grade is A\")\n",
    "\n",
    "    elif markOne>=80 and markOne<89:\n",
    "\n",
    "        print(\"Your Grade is B\")\n",
    "\n",
    "    elif markOne>=70 and markOne<79:\n",
    "\n",
    "        print(\"Your Grade is C\")\n",
    "\n",
    "    elif markOne>=60 and markOne<69:\n",
    "\n",
    "        print(\"Your Grade is D\")\n",
    "\n",
    "    else:\n",
    "\n",
    "        print(\"Your Grade is F\")\n",
    "\n",
    "else:\n",
    "\n",
    "    print(\"Invalid Input!\") \n"
   ]
  }
 ],
 "metadata": {
  "kernelspec": {
   "display_name": "Python 3 (ipykernel)",
   "language": "python",
   "name": "python3"
  },
  "language_info": {
   "codemirror_mode": {
    "name": "ipython",
    "version": 3
   },
   "file_extension": ".py",
   "mimetype": "text/x-python",
   "name": "python",
   "nbconvert_exporter": "python",
   "pygments_lexer": "ipython3",
   "version": "3.9.13"
  }
 },
 "nbformat": 4,
 "nbformat_minor": 5
}
